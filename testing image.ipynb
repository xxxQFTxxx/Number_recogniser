{
 "cells": [
  {
   "cell_type": "code",
   "execution_count": 267,
   "metadata": {
    "scrolled": true
   },
   "outputs": [
    {
     "name": "stdout",
     "output_type": "stream",
     "text": [
      "4.1.0\n"
     ]
    }
   ],
   "source": [
    "import numpy as np\n",
    "import cv2\n",
    "\n",
    "print(cv2.__version__)"
   ]
  },
  {
   "cell_type": "code",
   "execution_count": 268,
   "metadata": {},
   "outputs": [],
   "source": [
    "#Get the image \n",
    "frame = cv2.imread('numbers2.jpg')\n",
    "frame = cv2.resize(frame,(int(4032/5),int(3024/5)))"
   ]
  },
  {
   "cell_type": "code",
   "execution_count": 269,
   "metadata": {},
   "outputs": [],
   "source": [
    "gray = cv2.cvtColor(frame, cv2.COLOR_BGR2GRAY)\n",
    "gray = cv2.GaussianBlur(gray, (5, 5), 0)"
   ]
  },
  {
   "cell_type": "code",
   "execution_count": 270,
   "metadata": {},
   "outputs": [],
   "source": [
    "#thresholds the image\n",
    "im_th = cv2.adaptiveThreshold(gray,255,cv2.ADAPTIVE_THRESH_GAUSSIAN_C, cv2.THRESH_BINARY,11,2)"
   ]
  },
  {
   "cell_type": "code",
   "execution_count": 271,
   "metadata": {},
   "outputs": [],
   "source": [
    "#Finds the contours \n",
    "contours, hierarchy = cv2.findContours(im_th, cv2.RETR_TREE, cv2.CHAIN_APPROX_SIMPLE)"
   ]
  },
  {
   "cell_type": "code",
   "execution_count": 272,
   "metadata": {},
   "outputs": [],
   "source": [
    "#Clean the contour noise\n",
    "min_area = 300     #threshold area\n",
    "max_area = 1000\n",
    "contours = [cnt for cnt in contours if min_area < cv2.contourArea(cnt) and max_area > cv2.contourArea(cnt)]"
   ]
  },
  {
   "cell_type": "code",
   "execution_count": 273,
   "metadata": {},
   "outputs": [
    {
     "data": {
      "text/plain": [
       "array([[ 33,  33,  33, ...,  29,  29,  28],\n",
       "       [ 32,  32,  32, ...,  29,  29,  28],\n",
       "       [ 31,  31,  31, ...,  29,  28,  27],\n",
       "       ...,\n",
       "       [217, 216, 216, ..., 225, 226, 226],\n",
       "       [217, 217, 216, ..., 225, 226, 226],\n",
       "       [217, 217, 216, ..., 225, 226, 226]], dtype=uint8)"
      ]
     },
     "execution_count": 273,
     "metadata": {},
     "output_type": "execute_result"
    }
   ],
   "source": [
    "#draws the contours \n",
    "cv2.drawContours(gray, contours, -1, (0,255,0), 3)"
   ]
  },
  {
   "cell_type": "code",
   "execution_count": 274,
   "metadata": {
    "scrolled": true
   },
   "outputs": [
    {
     "name": "stdout",
     "output_type": "stream",
     "text": [
      "(105, 105)\n",
      "(94, 94)\n",
      "(110, 110)\n",
      "(96, 96)\n",
      "(128, 128)\n",
      "(128, 128)\n",
      "(12, 12)\n"
     ]
    }
   ],
   "source": [
    "#Draw the rect\n",
    "    \n",
    "## Get rectangles contains each contour\n",
    "rects = [cv2.boundingRect(ctr) for ctr in contours]\n",
    " \n",
    "    \n",
    "ROIs = []    \n",
    "##Draw\n",
    "for rect in rects:\n",
    "    # Draw the rectangles\n",
    "    #cv2.rectangle(gray, (rect[0], rect[1]), (rect[0] + rect[2], rect[1] + rect[3]), (0, 255, 0), 3)\n",
    "    \n",
    "    x = int(rect[0])\n",
    "    y = int(rect[1])\n",
    "    w = int(rect[2])\n",
    "    h = int(rect[3])\n",
    "    \"\"\"\n",
    "    x2 = int(1.2*(x+w))\n",
    "    y2 = int(1.2*(y+h))\n",
    "    roi = gray[x:x+w, y:y+h]\n",
    "    \"\"\"\n",
    "     # Make the rectangular region around the digit\n",
    "    leng = int(rect[3] * 1.6)\n",
    "    pt1 = int(rect[1] + rect[3] // 2 - leng // 2)\n",
    "    pt2 = int(rect[0] + rect[2] // 2 - leng // 2)\n",
    "    roi = im_th[pt1:pt1+leng, pt2:pt2+leng]\n",
    "    \n",
    "    print(roi.shape)\n",
    "    #roi = cv2.resize(roi, (28, 28), interpolation=cv2.INTER_AREA)\n",
    "    #roi = cv2.dilate(roi, (3, 3))\n",
    "    \n",
    "    \n",
    "    cv2.rectangle(gray, (x, y), (pt1+leng, pt2+leng), (0, 255, 0), 3)\n",
    "    ROIs.append(roi)\n",
    "    \n",
    "    "
   ]
  },
  {
   "cell_type": "code",
   "execution_count": 275,
   "metadata": {},
   "outputs": [],
   "source": [
    "#resize the region of interest to 28x28\n"
   ]
  },
  {
   "cell_type": "code",
   "execution_count": 276,
   "metadata": {},
   "outputs": [],
   "source": [
    "cv2.imshow('image', gray)"
   ]
  },
  {
   "cell_type": "code",
   "execution_count": 277,
   "metadata": {},
   "outputs": [],
   "source": [
    "cv2.waitKey(0) #wait for any key\n",
    "cv2.destroyAllWindows() #close the image window"
   ]
  }
 ],
 "metadata": {
  "kernelspec": {
   "display_name": "Python 3",
   "language": "python",
   "name": "python3"
  },
  "language_info": {
   "codemirror_mode": {
    "name": "ipython",
    "version": 3
   },
   "file_extension": ".py",
   "mimetype": "text/x-python",
   "name": "python",
   "nbconvert_exporter": "python",
   "pygments_lexer": "ipython3",
   "version": "3.7.3"
  }
 },
 "nbformat": 4,
 "nbformat_minor": 2
}
