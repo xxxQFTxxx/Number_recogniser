{
 "cells": [
  {
   "cell_type": "code",
   "execution_count": 395,
   "metadata": {
    "scrolled": true
   },
   "outputs": [
    {
     "name": "stdout",
     "output_type": "stream",
     "text": [
      "4.1.0\n"
     ]
    }
   ],
   "source": [
    "import numpy as np\n",
    "import cv2\n",
    "\n",
    "print(cv2.__version__)"
   ]
  },
  {
   "cell_type": "code",
   "execution_count": 396,
   "metadata": {},
   "outputs": [],
   "source": [
    "#Get the image \n",
    "frame = cv2.imread('numbers3.jpg')\n",
    "frame = cv2.resize(frame,(int(4032/5),int(3024/5)))"
   ]
  },
  {
   "cell_type": "code",
   "execution_count": 397,
   "metadata": {},
   "outputs": [],
   "source": [
    "gray = cv2.cvtColor(frame, cv2.COLOR_BGR2GRAY)\n",
    "gray = cv2.GaussianBlur(gray, (5, 5), 0)"
   ]
  },
  {
   "cell_type": "code",
   "execution_count": 398,
   "metadata": {},
   "outputs": [],
   "source": [
    "#thresholds the image\n",
    "im_th = cv2.adaptiveThreshold(gray,255,cv2.ADAPTIVE_THRESH_GAUSSIAN_C, cv2.THRESH_BINARY,11,2)"
   ]
  },
  {
   "cell_type": "code",
   "execution_count": 399,
   "metadata": {},
   "outputs": [],
   "source": [
    "#Finds the contours \n",
    "contours, hierarchy = cv2.findContours(im_th, cv2.RETR_TREE, cv2.CHAIN_APPROX_SIMPLE)"
   ]
  },
  {
   "cell_type": "code",
   "execution_count": 400,
   "metadata": {},
   "outputs": [],
   "source": [
    "#Clean the contour noise\n",
    "min_area = 1500     #threshold area\n",
    "max_area = 2500\n",
    "contours = [cnt for cnt in contours if min_area < cv2.contourArea(cnt) and max_area > cv2.contourArea(cnt)]"
   ]
  },
  {
   "cell_type": "code",
   "execution_count": 401,
   "metadata": {},
   "outputs": [
    {
     "data": {
      "text/plain": [
       "array([[209, 209, 209, ..., 205, 206, 206],\n",
       "       [209, 209, 209, ..., 205, 206, 206],\n",
       "       [209, 208, 208, ..., 205, 206, 206],\n",
       "       ...,\n",
       "       [186, 186, 185, ..., 175, 174, 173],\n",
       "       [186, 186, 186, ..., 173, 172, 172],\n",
       "       [186, 186, 186, ..., 173, 172, 171]], dtype=uint8)"
      ]
     },
     "execution_count": 401,
     "metadata": {},
     "output_type": "execute_result"
    }
   ],
   "source": [
    "#draws the contours \n",
    "cv2.drawContours(gray, contours, -1, (0,255,0), 3)"
   ]
  },
  {
   "cell_type": "code",
   "execution_count": 402,
   "metadata": {},
   "outputs": [
    {
     "name": "stdout",
     "output_type": "stream",
     "text": [
      "3\n"
     ]
    }
   ],
   "source": [
    "# Draw the rect and find Regions of interest\n",
    "    \n",
    "## Get rectangles contains each contour\n",
    "rects = [cv2.boundingRect(ctr) for ctr in contours]\n",
    "\n",
    "# find the distance between the two points in rectangles\n",
    "dist = [np.sqrt(rect[2]**2 + rect[3]**2) for rect in rects]\n",
    "\n",
    "# Increase the size of rectangles by approximately 20%\n",
    "# A 10% of the lenght is \n",
    "inc = [int(np.floor(d*0.1)) for d in dist]\n",
    "\n",
    "ROIs = []\n",
    "for i in range(len(rects)):\n",
    "    p1 = rects[i][0] - inc[i], rects[i][1] - inc[i]\n",
    "    p2 = rects[i][0] + rects[i][2] + inc[i], rects[i][1] + rects[i][3] + inc[i]\n",
    "    cv2.rectangle(gray, p1, p2, (19, 0, 76), 3)\n",
    "    roi = gray[p1[1]:p2[1], p1[0]:p2[0]]\n",
    "    ROIs.append(roi)\n",
    "    \n",
    "   "
   ]
  },
  {
   "cell_type": "code",
   "execution_count": 403,
   "metadata": {},
   "outputs": [],
   "source": [
    "#resize the region of interest to 28x28\n",
    "ROIs = [cv2.resize(roi, (28, 28), interpolation=cv2.INTER_AREA) for roi in ROIs]"
   ]
  },
  {
   "cell_type": "code",
   "execution_count": null,
   "metadata": {},
   "outputs": [],
   "source": [
    "#Feed ROIs in to a NN to detect the numbers\n"
   ]
  },
  {
   "cell_type": "code",
   "execution_count": 404,
   "metadata": {},
   "outputs": [],
   "source": [
    "cv2.imshow('image', gray)"
   ]
  },
  {
   "cell_type": "code",
   "execution_count": 405,
   "metadata": {},
   "outputs": [],
   "source": [
    "cv2.waitKey(0) #wait for any key\n",
    "cv2.destroyAllWindows() #close the image window"
   ]
  }
 ],
 "metadata": {
  "kernelspec": {
   "display_name": "Python 3",
   "language": "python",
   "name": "python3"
  },
  "language_info": {
   "codemirror_mode": {
    "name": "ipython",
    "version": 3
   },
   "file_extension": ".py",
   "mimetype": "text/x-python",
   "name": "python",
   "nbconvert_exporter": "python",
   "pygments_lexer": "ipython3",
   "version": "3.7.3"
  }
 },
 "nbformat": 4,
 "nbformat_minor": 2
}
