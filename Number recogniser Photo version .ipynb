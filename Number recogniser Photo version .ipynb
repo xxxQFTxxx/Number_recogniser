{
 "cells": [
  {
   "cell_type": "code",
   "execution_count": 1,
   "metadata": {
    "scrolled": true
   },
   "outputs": [
    {
     "name": "stdout",
     "output_type": "stream",
     "text": [
      "4.1.0\n"
     ]
    }
   ],
   "source": [
    "import numpy as np\n",
    "import cv2\n",
    "\n",
    "print(cv2.__version__)"
   ]
  },
  {
   "cell_type": "code",
   "execution_count": null,
   "metadata": {},
   "outputs": [],
   "source": [
    "#Get the image \n",
    "img = cv2.imread('numbers.jpg')\n",
    "\n",
    "print(img)"
   ]
  },
  {
   "cell_type": "code",
   "execution_count": 2,
   "metadata": {},
   "outputs": [
    {
     "name": "stdout",
     "output_type": "stream",
     "text": [
      "[[[113 123 110]\n",
      "  [121 131 118]\n",
      "  [125 135 122]\n",
      "  ...\n",
      "  [126 132 127]\n",
      "  [125 130 128]\n",
      "  [123 128 126]]\n",
      "\n",
      " [[115 125 112]\n",
      "  [120 130 117]\n",
      "  [124 134 121]\n",
      "  ...\n",
      "  [125 131 126]\n",
      "  [126 131 129]\n",
      "  [124 129 127]]\n",
      "\n",
      " [[117 127 114]\n",
      "  [120 130 117]\n",
      "  [122 132 119]\n",
      "  ...\n",
      "  [123 130 125]\n",
      "  [125 130 128]\n",
      "  [124 129 127]]\n",
      "\n",
      " ...\n",
      "\n",
      " [[ 92 102  89]\n",
      "  [ 93 103  90]\n",
      "  [ 93 103  90]\n",
      "  ...\n",
      "  [ 99 107 100]\n",
      "  [100 107 102]\n",
      "  [100 110 104]]\n",
      "\n",
      " [[ 95 104  91]\n",
      "  [ 94 103  90]\n",
      "  [ 94 103  90]\n",
      "  ...\n",
      "  [ 98 107  97]\n",
      "  [100 108 101]\n",
      "  [100 111 103]]\n",
      "\n",
      " [[ 96 105  92]\n",
      "  [ 95 104  91]\n",
      "  [ 94 103  90]\n",
      "  ...\n",
      "  [ 98 107  97]\n",
      "  [100 108 101]\n",
      "  [100 111 103]]]\n"
     ]
    }
   ],
   "source": [
    "cv2.imshow('Working', img)"
   ]
  },
  {
   "cell_type": "markdown",
   "metadata": {},
   "source": [
    "#converts img to gray and blurs\n",
    "gray = cv2.cvtColor(img, cv2.COLOR_BGR2GRAY)\n",
    "gray = cv2.GaussianBlur(gray, (5, 5), 0)    "
   ]
  },
  {
   "cell_type": "markdown",
   "metadata": {},
   "source": [
    "#thresholds the image\n",
    "im_th = cv2.adaptiveThreshold(gray,255,cv2.ADAPTIVE_THRESH_MEAN_C, cv2.THRESH_BINARY,11,2)"
   ]
  },
  {
   "cell_type": "markdown",
   "metadata": {},
   "source": [
    "#Finds the contours \n",
    "contours, hierarchy = cv2.findContours(im_th, cv2.RETR_TREE, cv2.CHAIN_APPROX_SIMPLE)"
   ]
  },
  {
   "cell_type": "markdown",
   "metadata": {},
   "source": [
    "#Clean the contour noise\n",
    "min_area = 300     #threshold area\n",
    "max_area = 1000\n",
    "contours = [cnt for cnt in contours if min_area < cv2.contourArea(cnt) and max_area > cv2.contourArea(cnt)]"
   ]
  },
  {
   "cell_type": "markdown",
   "metadata": {},
   "source": [
    "#draws the contours \n",
    "    cv2.drawContours(gray, contours, -1, (0,255,0), 3)"
   ]
  },
  {
   "cell_type": "markdown",
   "metadata": {},
   "source": [
    "#Draw the rect\n",
    "## Get rectangles contains each contour\n",
    "rects = [cv2.boundingRect(ctr) for ctr in contours]\n",
    "    \n",
    "    ##Draw\n",
    "for rect in rects:\n",
    "    # Draw the rectangles\n",
    "    cv2.rectangle(gray, (rect[0], rect[1]), (rect[0] + rect[2], rect[1] + rect[3]), (0, 255, 0), 3) \n",
    "        \n",
    "        \n",
    "       \n",
    "    # Make the rectangular region around the digit\n",
    "    x = int(rect[0])\n",
    "    y = int(rect[1])\n",
    "    w = int(rect[2])\n",
    "    h = int(rect[3])\n",
    "        \n",
    "    x2 = int(1.2*(x+w))\n",
    "    y2 = int(1.2*(y+h))\n",
    "    roi = gray[x:x2, y:y2]\n"
   ]
  },
  {
   "cell_type": "markdown",
   "metadata": {},
   "source": [
    "#resize the region of interest to 28x28\n"
   ]
  },
  {
   "cell_type": "markdown",
   "metadata": {},
   "source": [
    "#feed it to the NN\n"
   ]
  },
  {
   "cell_type": "markdown",
   "metadata": {},
   "source": [
    "#Write the output of NN above the ROI\n"
   ]
  },
  {
   "cell_type": "markdown",
   "metadata": {},
   "source": [
    "# Display the resulting frame\n",
    "\n",
    "cv2.imshow('frame', gray)"
   ]
  },
  {
   "cell_type": "markdown",
   "metadata": {},
   "source": [
    "if cv2.waitKey(1) & 0xFF == ord('q'):\n",
    "    break\n",
    "\n"
   ]
  },
  {
   "cell_type": "markdown",
   "metadata": {},
   "source": [
    "  # Our operations on the frame come here\n",
    "    gray = cv2.cvtColor(frame, cv2.COLOR_BGR2GRAY)\n",
    "    gray = cv2.GaussianBlur(gray, (5, 5), 0)\n",
    "    \n",
    "    # Threshold the image\n",
    "    ret, im_th = cv2.threshold(gray, 90, 255, cv2.THRESH_BINARY_INV)\n",
    "    \n",
    "    # Find contours in the image\n",
    "    ctrs, hier = cv2.findContours(im_th.copy(), cv2.RETR_EXTERNAL, cv2.CHAIN_APPROX_SIMPLE)\n",
    "    \n",
    "    # Get rectangles contains each contour\n",
    "    rects = [cv2.boundingRect(ctr) for ctr in ctrs]\n",
    "\n",
    "    \n",
    "    for rect in rects:\n",
    "        # Draw the rectangles\n",
    "        cv2.rectangle(gray, (rect[0], rect[1]), (rect[0] + rect[2], rect[1] + rect[3]), (0, 255, 0), 3) \n",
    "        # Make the rectangular region around the digit\n",
    "        leng = int(rect[3] * 1.6)\n",
    "        pt1 = int(rect[1] + rect[3] // 2 - leng // 2)\n",
    "        pt2 = int(rect[0] + rect[2] // 2 - leng // 2)\n",
    "        roi = im_th[pt1:pt1+leng, pt2:pt2+leng]\n",
    "        # Resize the image\n",
    "        #roi = cv2.resize(roi, (28, 28), interpolation=cv2.INTER_AREA)\n",
    "        #roi = cv2.dilate(roi, (3, 3))"
   ]
  },
  {
   "cell_type": "markdown",
   "metadata": {},
   "source": [
    "roi"
   ]
  },
  {
   "cell_type": "markdown",
   "metadata": {},
   "source": [
    "# When everything done, release the capture\n",
    "cap.release()\n",
    "cv2.destroyAllWindows()\n"
   ]
  }
 ],
 "metadata": {
  "kernelspec": {
   "display_name": "Python 3",
   "language": "python",
   "name": "python3"
  },
  "language_info": {
   "codemirror_mode": {
    "name": "ipython",
    "version": 3
   },
   "file_extension": ".py",
   "mimetype": "text/x-python",
   "name": "python",
   "nbconvert_exporter": "python",
   "pygments_lexer": "ipython3",
   "version": "3.7.3"
  }
 },
 "nbformat": 4,
 "nbformat_minor": 2
}
