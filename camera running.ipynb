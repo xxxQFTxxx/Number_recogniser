{
 "cells": [
  {
   "cell_type": "code",
   "execution_count": 47,
   "metadata": {},
   "outputs": [],
   "source": [
    "import numpy as np\n",
    "import cv2\n",
    "\n",
    "from sklearn.externals import joblib\n",
    "#from skimage.feature import hog\n",
    "\n",
    "import argparse as ap"
   ]
  },
  {
   "cell_type": "code",
   "execution_count": null,
   "metadata": {},
   "outputs": [],
   "source": [
    "cap = cv2.VideoCapture(0)\n",
    "\n",
    "\n",
    "while(True):\n",
    "    # Capture frame-by-frame\n",
    "    ret, frame = cap.read()\n",
    "\n",
    "    # Our operations on the frame come here\n",
    "    gray = cv2.cvtColor(frame, cv2.COLOR_BGR2GRAY)\n",
    "    gray = cv2.GaussianBlur(gray, (5, 5), 0)\n",
    "    \n",
    "    # Threshold the image\n",
    "    ret, im_th = cv2.threshold(gray, 90, 255, cv2.THRESH_BINARY_INV)\n",
    "    \n",
    "    # Find contours in the image\n",
    "    ctrs, hier = cv2.findContours(im_th.copy(), cv2.RETR_EXTERNAL, cv2.CHAIN_APPROX_SIMPLE)\n",
    "    \n",
    "    # Get rectangles contains each contour\n",
    "    rects = [cv2.boundingRect(ctr) for ctr in ctrs]\n",
    "\n",
    "    \n",
    "    for rect in rects:\n",
    "        # Draw the rectangles\n",
    "        cv2.rectangle(gray, (rect[0], rect[1]), (rect[0] + rect[2], rect[1] + rect[3]), (0, 255, 0), 3) \n",
    "        # Make the rectangular region around the digit\n",
    "        leng = int(rect[3] * 1.6)\n",
    "        pt1 = int(rect[1] + rect[3] // 2 - leng // 2)\n",
    "        pt2 = int(rect[0] + rect[2] // 2 - leng // 2)\n",
    "        roi = im_th[pt1:pt1+leng, pt2:pt2+leng]\n",
    "        # Resize the image\n",
    "        #roi = cv2.resize(roi, (28, 28), interpolation=cv2.INTER_AREA)\n",
    "        #roi = cv2.dilate(roi, (3, 3))\n",
    "        \n",
    "    \n",
    "    \n",
    "    # Display the resulting frame\n",
    "    cv2.imshow('frame', gray)\n",
    "    if cv2.waitKey(1) & 0xFF == ord('q'):\n",
    "        break\n",
    "\n"
   ]
  },
  {
   "cell_type": "code",
   "execution_count": null,
   "metadata": {},
   "outputs": [],
   "source": []
  },
  {
   "cell_type": "code",
   "execution_count": null,
   "metadata": {},
   "outputs": [],
   "source": [
    "# When everything done, release the capture\n",
    "cap.release()\n",
    "cv2.destroyAllWindows()"
   ]
  }
 ],
 "metadata": {
  "kernelspec": {
   "display_name": "Python 3",
   "language": "python",
   "name": "python3"
  },
  "language_info": {
   "codemirror_mode": {
    "name": "ipython",
    "version": 3
   },
   "file_extension": ".py",
   "mimetype": "text/x-python",
   "name": "python",
   "nbconvert_exporter": "python",
   "pygments_lexer": "ipython3",
   "version": "3.7.3"
  }
 },
 "nbformat": 4,
 "nbformat_minor": 2
}
