{
 "cells": [
  {
   "cell_type": "code",
   "execution_count": 3,
   "metadata": {},
   "outputs": [
    {
     "name": "stdout",
     "output_type": "stream",
     "text": [
      "4.1.0\n"
     ]
    }
   ],
   "source": [
    "import numpy as np\n",
    "import cv2\n",
    "\n",
    "from sklearn.externals import joblib\n",
    "#from skimage.feature import hog\n",
    "\n",
    "import argparse as ap\n",
    "\n",
    "print(cv2.__version__)"
   ]
  },
  {
   "cell_type": "code",
   "execution_count": 4,
   "metadata": {},
   "outputs": [],
   "source": [
    "cap = cv2.VideoCapture(0)\n",
    "\n",
    "\n",
    "while(True):\n",
    "    # Capture frame-by-frame\n",
    "    ret, frame = cap.read()        \n",
    "    \n",
    "    #converts img to gray and blurs\n",
    "    gray = cv2.cvtColor(frame, cv2.COLOR_BGR2GRAY)\n",
    "    gray = cv2.GaussianBlur(gray, (5, 5), 0)\n",
    "    \n",
    "    #thresholds the image\n",
    "    im_th = cv2.adaptiveThreshold(gray,255,cv2.ADAPTIVE_THRESH_MEAN_C, cv2.THRESH_BINARY,11,2)\n",
    "    #ret, im_th = cv2.threshold(gray, 127, 255, cv2.THRESH_BINARY)\n",
    "\n",
    "    \n",
    "    #Finds the contours \n",
    "    contours, hierarchy = cv2.findContours(im_th, cv2.RETR_TREE, cv2.CHAIN_APPROX_SIMPLE)\n",
    "    \n",
    "    \n",
    "    #Clean the contour noise\n",
    "    min_area = 300     #threshold area\n",
    "    max_area = 1000\n",
    "    contours = [cnt for cnt in contours if min_area < cv2.contourArea(cnt) and max_area > cv2.contourArea(cnt)]\n",
    "\n",
    "       \n",
    "    #draws the contours \n",
    "    cv2.drawContours(gray, contours, -1, (0,255,0), 3)\n",
    "    \n",
    "    #Draw the rect\n",
    "    \n",
    "    ## Get rectangles contains each contour\n",
    "    rects = [cv2.boundingRect(ctr) for ctr in contours]\n",
    "    \n",
    "    ##Draw\n",
    "    for rect in rects:\n",
    "        # Draw the rectangles\n",
    "        cv2.rectangle(gray, (rect[0], rect[1]), (rect[0] + rect[2], rect[1] + rect[3]), (0, 255, 0), 3) \n",
    "        \n",
    "        \n",
    "       \n",
    "        # Make the rectangular region around the digit\n",
    "        x = int(rect[0])\n",
    "        y = int(rect[1])\n",
    "        w = int(rect[2])\n",
    "        h = int(rect[3])\n",
    "        \n",
    "        x2 = int(1.2*(x+w))\n",
    "        y2 = int(1.2*(y+h))\n",
    "        roi = gray[x:x2, y:y2]\n",
    "\n",
    "        \n",
    "        #resize the region of interest to 28x28\n",
    "        \n",
    "        \n",
    "        #feed it to the NN\n",
    "        \n",
    "        \n",
    "        #Write the output of NN above the ROI\n",
    "        \n",
    "        \n",
    "        \n",
    "    # Display the resulting frame\n",
    "    cv2.imshow('frame', gray)\n",
    "    if cv2.waitKey(1) & 0xFF == ord('q'):\n",
    "        break\n",
    "\n"
   ]
  },
  {
   "cell_type": "raw",
   "metadata": {},
   "source": [
    "  # Our operations on the frame come here\n",
    "    gray = cv2.cvtColor(frame, cv2.COLOR_BGR2GRAY)\n",
    "    gray = cv2.GaussianBlur(gray, (5, 5), 0)\n",
    "    \n",
    "    # Threshold the image\n",
    "    ret, im_th = cv2.threshold(gray, 90, 255, cv2.THRESH_BINARY_INV)\n",
    "    \n",
    "    # Find contours in the image\n",
    "    ctrs, hier = cv2.findContours(im_th.copy(), cv2.RETR_EXTERNAL, cv2.CHAIN_APPROX_SIMPLE)\n",
    "    \n",
    "    # Get rectangles contains each contour\n",
    "    rects = [cv2.boundingRect(ctr) for ctr in ctrs]\n",
    "\n",
    "    \n",
    "    for rect in rects:\n",
    "        # Draw the rectangles\n",
    "        cv2.rectangle(gray, (rect[0], rect[1]), (rect[0] + rect[2], rect[1] + rect[3]), (0, 255, 0), 3) \n",
    "        # Make the rectangular region around the digit\n",
    "        leng = int(rect[3] * 1.6)\n",
    "        pt1 = int(rect[1] + rect[3] // 2 - leng // 2)\n",
    "        pt2 = int(rect[0] + rect[2] // 2 - leng // 2)\n",
    "        roi = im_th[pt1:pt1+leng, pt2:pt2+leng]\n",
    "        # Resize the image\n",
    "        #roi = cv2.resize(roi, (28, 28), interpolation=cv2.INTER_AREA)\n",
    "        #roi = cv2.dilate(roi, (3, 3))"
   ]
  },
  {
   "cell_type": "code",
   "execution_count": 5,
   "metadata": {},
   "outputs": [
    {
     "data": {
      "text/plain": [
       "array([[175, 175, 175, ..., 179, 179, 179],\n",
       "       [175, 175, 175, ..., 179, 179, 179],\n",
       "       [174, 174, 175, ..., 179, 178, 179],\n",
       "       ...,\n",
       "       [  0,   0,   0, ...,   0,   0,   0],\n",
       "       [  0,   0,   0, ...,   0,   0,   0],\n",
       "       [  0,   0,   0, ...,   0,   0,   0]], dtype=uint8)"
      ]
     },
     "execution_count": 5,
     "metadata": {},
     "output_type": "execute_result"
    }
   ],
   "source": [
    "roi"
   ]
  },
  {
   "cell_type": "code",
   "execution_count": 6,
   "metadata": {},
   "outputs": [],
   "source": [
    "# When everything done, release the capture\n",
    "cap.release()\n",
    "cv2.destroyAllWindows()\n"
   ]
  }
 ],
 "metadata": {
  "kernelspec": {
   "display_name": "Python 3",
   "language": "python",
   "name": "python3"
  },
  "language_info": {
   "codemirror_mode": {
    "name": "ipython",
    "version": 3
   },
   "file_extension": ".py",
   "mimetype": "text/x-python",
   "name": "python",
   "nbconvert_exporter": "python",
   "pygments_lexer": "ipython3",
   "version": "3.7.3"
  }
 },
 "nbformat": 4,
 "nbformat_minor": 2
}
